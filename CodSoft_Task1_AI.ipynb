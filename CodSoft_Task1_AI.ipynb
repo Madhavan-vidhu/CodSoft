{
 "cells": [
  {
   "cell_type": "code",
   "execution_count": 15,
   "id": "527c7f87-0549-40ed-af70-7ff6c4708a4f",
   "metadata": {},
   "outputs": [
    {
     "name": "stdout",
     "output_type": "stream",
     "text": [
      "USER : "
     ]
    },
    {
     "name": "stdin",
     "output_type": "stream",
     "text": [
      " hello\n"
     ]
    },
    {
     "name": "stdout",
     "output_type": "stream",
     "text": [
      "Zoro : how can i help you\n",
      "USER : "
     ]
    },
    {
     "name": "stdin",
     "output_type": "stream",
     "text": [
      " your name\n"
     ]
    },
    {
     "name": "stdout",
     "output_type": "stream",
     "text": [
      "Zoro : Hi I am Zoro, a ChatBot,I can help with a variety of tasks\n",
      "\tHow can I help you\n",
      "USER : "
     ]
    },
    {
     "name": "stdin",
     "output_type": "stream",
     "text": [
      " make me happy\n"
     ]
    },
    {
     "name": "stdout",
     "output_type": "stream",
     "text": [
      "Zoro : Why don't skeletons fight each other? \n",
      " They don't have the guts\n",
      "USER : "
     ]
    },
    {
     "name": "stdin",
     "output_type": "stream",
     "text": [
      " make me happy\n"
     ]
    },
    {
     "name": "stdout",
     "output_type": "stream",
     "text": [
      "Zoro : Why don't skeletons fight each other? \n",
      " They don't have the guts\n",
      "USER : "
     ]
    },
    {
     "name": "stdin",
     "output_type": "stream",
     "text": [
      " whot is dsads\n"
     ]
    },
    {
     "name": "stdout",
     "output_type": "stream",
     "text": [
      "Zoro : Sorry, I didn't understand\n",
      "USER : "
     ]
    },
    {
     "name": "stdin",
     "output_type": "stream",
     "text": [
      " who are you\n"
     ]
    },
    {
     "name": "stdout",
     "output_type": "stream",
     "text": [
      "Zoro : Hi I am Zoro, a ChatBot,I can help with a variety of tasks\n",
      "\tHow can I help you\n",
      "USER : "
     ]
    },
    {
     "name": "stdin",
     "output_type": "stream",
     "text": [
      " see you later\n"
     ]
    },
    {
     "name": "stdout",
     "output_type": "stream",
     "text": [
      "Zoro : Ok, Sir see you soon\n"
     ]
    }
   ],
   "source": [
    "while True:\n",
    "    print(\"USER : \",end=\"\")\n",
    "    inp = input()\n",
    "    print(\"Zoro : \",end=\"\")\n",
    "    if \"hello\" in inp or \"hi\" in inp:\n",
    "        print(\"how can i help you\")\n",
    "    elif \"your name\" in inp or \"who are you\" in inp:\n",
    "        print(\"Hi I am Zoro, a ChatBot,I can help with a variety of tasks\")\n",
    "        print(\"\\tHow can I help you\")\n",
    "    elif \"tell me a joke\" in inp or \"make me happy\" in inp:\n",
    "        print(\"Why don't skeletons fight each other? \\n They don't have the guts\")\n",
    "    elif \"what is 2+2\" in inp:\n",
    "        print(\"Answer is 4\")\n",
    "    elif \"bye\" in inp or \"see you later\" in inp:\n",
    "        print(\"Ok, Sir see you soon\")\n",
    "        break\n",
    "    else:\n",
    "        print(\"Sorry, I didn't understand\")"
   ]
  },
  {
   "cell_type": "code",
   "execution_count": null,
   "id": "6ec2b2b0-0264-456c-88dc-04dba3061277",
   "metadata": {},
   "outputs": [],
   "source": []
  }
 ],
 "metadata": {
  "kernelspec": {
   "display_name": "Python 3 (ipykernel)",
   "language": "python",
   "name": "python3"
  },
  "language_info": {
   "codemirror_mode": {
    "name": "ipython",
    "version": 3
   },
   "file_extension": ".py",
   "mimetype": "text/x-python",
   "name": "python",
   "nbconvert_exporter": "python",
   "pygments_lexer": "ipython3",
   "version": "3.11.7"
  }
 },
 "nbformat": 4,
 "nbformat_minor": 5
}
