{
 "cells": [
  {
   "cell_type": "code",
   "execution_count": 29,
   "id": "f6d17224-1c82-45df-bddd-3803ee085ebd",
   "metadata": {},
   "outputs": [
    {
     "name": "stdout",
     "output_type": "stream",
     "text": [
      "Movie Recommended In This Genre:\n",
      " ['Rocky', 'Les choristes', 'The Innocents', 'Chung Hing sam lam', 'The Longest Day', 'Lawrence of Arabia', 'It Happened One Night', 'The Taking of Pelham One Two Three', 'Casino', 'How to Train Your Dragon']\n"
     ]
    }
   ],
   "source": [
    "import pandas as pd\n",
    "from sklearn.feature_extraction.text import TfidfVectorizer\n",
    "from sklearn.metrics.pairwise import cosine_similarity\n",
    "\n",
    "# Load and preprocess the dataset\n",
    "df = pd.read_csv(\"imdb_top_1000.csv\", engine=\"python\")\n",
    "df = df[[\"Series_Title\", \"Genre\",]].dropna().reset_index(drop=True)\n",
    "\n",
    "# Preprocess the genres to create a text corpus\n",
    "df['Genre'] = df['Genre'].str.replace('[', '', regex=False).str.replace(']', '', regex=False).str.replace(\"'\", \"\", regex=False).str.replace(',', ' ', regex=False)\n",
    "df['Genre'] = df['Genre'].str.lower()\n",
    "\n",
    "tfidf = TfidfVectorizer(stop_words='english')\n",
    "\n",
    "\n",
    "tfidf_matrix = tfidf.fit_transform(df['Genre'])\n",
    "\n",
    "\n",
    "similarity_matrix = cosine_similarity(tfidf_matrix, tfidf_matrix)\n",
    "\n",
    "def recommend_by_genre(genre, num_recommendations=10):\n",
    "\n",
    "    filtered_df = df[df['Genre'].str.contains(genre.lower(), case=False)]\n",
    "    \n",
    "    if filtered_df.empty:\n",
    "        return f\"No movies found for genre '{genre}'.\"\n",
    "    \n",
    "\n",
    "    recommended_movies = []\n",
    "\n",
    "    for idx in filtered_df.index:\n",
    "\n",
    "        sim_scores = list(enumerate(similarity_matrix[idx]))\n",
    "        \n",
    "\n",
    "        sim_scores = sorted(sim_scores, key=lambda x: x[1], reverse=True)\n",
    "        \n",
    "\n",
    "        sim_scores = sim_scores[1:num_recommendations + 1]  # Exclude the input movie itself\n",
    "        \n",
    "\n",
    "        movie_indices = [i[0] for i in sim_scores]\n",
    "        top_movies = df['Series_Title'].iloc[movie_indices].tolist()\n",
    "        recommended_movies.extend(top_movies)\n",
    "    \n",
    "\n",
    "    recommended_movies = list(set(recommended_movies))\n",
    "    \n",
    "    return recommended_movies[:num_recommendations]\n",
    "\n",
    "\n",
    "recommended_movies = recommend_by_genre(\"Crime\", num_recommendations=10)\n",
    "print(\"Movie Recommended In This Genre:\\n\", recommended_movies)"
   ]
  },
  {
   "cell_type": "code",
   "execution_count": null,
   "id": "006c0ac9-aa39-470c-8a14-7cb90ec1dd1c",
   "metadata": {},
   "outputs": [],
   "source": []
  }
 ],
 "metadata": {
  "kernelspec": {
   "display_name": "Python 3 (ipykernel)",
   "language": "python",
   "name": "python3"
  },
  "language_info": {
   "codemirror_mode": {
    "name": "ipython",
    "version": 3
   },
   "file_extension": ".py",
   "mimetype": "text/x-python",
   "name": "python",
   "nbconvert_exporter": "python",
   "pygments_lexer": "ipython3",
   "version": "3.11.7"
  }
 },
 "nbformat": 4,
 "nbformat_minor": 5
}
